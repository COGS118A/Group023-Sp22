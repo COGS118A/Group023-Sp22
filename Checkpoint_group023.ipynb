{
 "cells": [
  {
   "cell_type": "markdown",
   "metadata": {},
   "source": [
    "# COGS 118A- Project Checkpoint"
   ]
  },
  {
   "cell_type": "markdown",
   "metadata": {},
   "source": [
    "# Names\n",
    "\n",
    "- Ramy Al-Hosri\n",
    "- Kevin De Silva Jayasinghe\n",
    "- Alex Tsatryan\n",
    "- Madison Hambly\n",
    "- Efrain Contreras\n"
   ]
  },
  {
   "cell_type": "markdown",
   "metadata": {},
   "source": [
    "# Abstract \n",
    "\n",
    "Our goal is to use the provided data on Personal key indicators of heart disease to predict whether a person with a certain set of characteristics has heart disease or does not have heart disease. The data being used represents 400k individuals who’s health indicators were collected and documented. The data was collected by the CDC as part of the “Behavioral Risk Factor Surveillance System (BRFSS), which conducts annual telephone surveys to gather data on the health status of U.S. residents”<a name=\"kaggle\"></a>[<sup>1</sup>](#kagglenote). We will use the data to create a classification model to predict whether an individual, given the characteristics, has heart disease or not. Performance will be measured by accuracy with the test set, as this is a binary classification."
   ]
  },
  {
   "cell_type": "markdown",
   "metadata": {},
   "source": [
    "# Background\n",
    "\n",
    "According to the CDC, heart disease is the leading cause of death in the United States and is the result of approximately 1 in 4 deaths each year<a name=\"cdc\"></a>[<sup>[2]</sup>](#cdcnote). The CDC also noted that heart disease cost the United States $363 billion annually from 2016 to 2017. Thus, being able to use patient data to accurately predict whether or not someone has heart disease can be extremely advantageous in the field of medicine. It would allow for patients to discuss treatment and prevention options with their healthcare providers in the context of their own unique situation. \n",
    "\n",
    "It is likely due to these immense monetary and social incentives that there has been an effort in the field of machine learning to better predict an individual’s risk of having heart disease. In fact, recent research has aimed to not only predict whether or not someone has heart disease, but to also predict which stage of heart disease they are in<a name=\"lorenz\"></a>[<sup>[3]</sup>](#amennote). In this study, Amen et al. (2020) tried to predict the five stages of heart disease (no disease, stage 1, stage 2, stage 3, advanced condition) using five different machine learning algorithms, and were able to achieve a peak accuracy of 82% using Logistic Regression. In another study, Terrada et al. (2020)<a name=\"terrada\"></a>[<sup>[4]</sup>](#terradanote) proposed a system for predicting atherosclerotic disease, a type of heart disease, using a combination of three machine learning algorithms which at best was able to perform at an accuracy of 94%. While some of the information in the datasets that they used were similar to our own, there were also additional metrics specific to heart health employed (i.e. the number of major vessels colored by fluoroscopy, exercise induced angina, etc.) which many health care providers would likely not have access to if they were not already concerned with the patient’s heart health. Therefore, our project aims to perform a similar task in a more general setting.\n"
   ]
  },
  {
   "cell_type": "markdown",
   "metadata": {},
   "source": [
    "# Problem Statement\n",
    "\n",
    "The likelihood of developing heart disease can increase based on multiple variables. Furthermore, it is possible to have a heart condition and be completely unaware since in certain cases people do not develop any symptoms until they have severe complications. Despite this there is no accessible program that allows individuals to check whether or not they have a heart condition or have a risk of developing heart diseases. We believe its possible to create a machine learning model that given a handful of variables such as, smoking history, alchohol history, sex, etc it should be possible to create a model that can predict whether or not someone has a heart disease. Our problem is a classification problem with two categories: people with heart disease and people without heart disease. "
   ]
  },
  {
   "cell_type": "markdown",
   "metadata": {},
   "source": [
    "# Data\n",
    "\n",
    "- Link: https://www.kaggle.com/datasets/kamilpytlak/personal-key-indicators-of-heart-disease \n",
    "- 400,000 x 18\n",
    "- Observations (one row of data) include health information about an individual (BMI, smoking, drinking, history of stroke, etc.) as well as the classifier, whether the person has heart disease or not.\n",
    "- The most critical variable is the one that denotes if the person has heart disease, because this is what we will be predicting. All the other variables will be vectorized and fed into an appropriate classification model to predict if someone will have heart disease or not.\n",
    "- At first glance, the data seems standardized, might need some touch up for converting age ranges into single numbers, set-up for one hot, etc.\n",
    "\n",
    "Column Descriptions:\n",
    "- HeartDisease: Respondents that have ever reported having coronary heart disease (CHD) or myocardial infarction (MI).\n",
    "- BMI: Body Mass Index (BMI).\n",
    "- Smoking: Have you smoked at least 100 cigarettes in your entire life?\n",
    "- AlcoholDrinking: Heavy drinkers (adult men having more than 14 drinks per week and adult women having more than 7 drinks per week\n",
    "- Stroke: (Ever told) (you had) a stroke?\n",
    "- PhysicalHealth: Now thinking about your physical health, which includes physical illness and injury, for how many days during the past 30 days was your physical health not good? (0-30 days).\n",
    "- MentalHealth: Thinking about your mental health, for how many days during the past 30 days was your mental health not good? (0-30 days).\n",
    "- DiffWalking: Do you have serious difficulty walking or climbing stairs?\n",
    "- Sex: Are you male or female?\n",
    "- AgeCategory: Fourteen-level age category. (then calculated the mean)\n",
    "- Race: Imputed race/ethnicity value.\n",
    "- Diabetic: (Ever told) (you had) diabetes?\n",
    "- PhysicalActivity: Adults who reported doing physical activity or exercise during the past 30 days other than their regular job.\n",
    "- GenHealth: Would you say that in general your health is...\n",
    "- SleepTime: On average, how many hours of sleep do you get in a 24-hour period?\n",
    "- Asthma: (Ever told) (you had) asthma?\n",
    "- KidneyDisease: Not including kidney stones, bladder infection or incontinence, were you ever told you had kidney disease?\n",
    "- SkinCancer: (Ever told) (you had) skin cancer?\n",
    "\n",
    "\n",
    "UPDATED FROM PROPOSAL!\n",
    "\n",
    "You should have obtained and cleaned (if necessary) data you will use for this project.\n",
    "\n",
    "Please give the following infomration for each dataset you are using\n",
    "- link/reference to obtain it\n",
    "- description of the size of the dataset (# of variables, # of observations)\n",
    "- what an observation consists of\n",
    "- what some critical variables are, how they are represented\n",
    "- any special handling, transformations, cleaning, etc you have done should be demonstrated here!\n"
   ]
  },
  {
   "cell_type": "markdown",
   "metadata": {},
   "source": [
    "# Proposed Solution\n",
    "\n",
    "The solution to our problem statement is to develop a machine learning model consisting of various categories of traits to classify individuals as having heart disease or not.  Our solution consists of using decision trees, which is applicable to the issue because one of our approaches is to partition the dataset into smaller clusters whilst keeping computing easy and signifying an importance of a particular variable.  Furthermore, since our data is nonparametric, we believed that a Decision Tree Classification would work best.  Our solution will be tested by measuring the accuracy of our classifier by submitting an example to a series of tests that determine the class label of the example.  Accuracy will be determined by checking if the outcome by the model is correct based on what is recorded in the dataset."
   ]
  },
  {
   "cell_type": "markdown",
   "metadata": {},
   "source": [
    "# Evaluation Metrics\n",
    "\n",
    "Propose at least one evaluation metric that can be used to quantify the performance of both the benchmark model and the solution model. The evaluation metric(s) you propose should be appropriate given the context of the data, the problem statement, and the intended solution. Describe how the evaluation metric(s) are derived and provide an example of their mathematical representations (if applicable). Complex evaluation metrics should be clearly defined and quantifiable (can be expressed in mathematical or logical terms).\n",
    "\n",
    "Confusion matrix:\n",
    "<table>\n",
    "    <tr>\n",
    "        <th> </th>  \n",
    "        <th>1 (Real)</th>  \n",
    "        <th>0 (Real)</th>\n",
    "    </tr>\n",
    "    <tr>\n",
    "        <td> 1 (Predicted)</td>\n",
    "        <td> True Positive (TP)</td>\n",
    "        <td> False Positive (FP)</td>\n",
    "    </tr>\n",
    "    <tr>\n",
    "        <td> 0 (Predicted)</td>\n",
    "        <td> False Negative (FN)</td>\n",
    "        <td> True Negative (TN)</td>\n",
    "    </tr>\n",
    "</table>\n",
    "\n",
    "Equation for accuracy: (TN+TP)/(TN+TP+FP+FN)\n",
    "\n",
    "NOTE from feedback:\n",
    "Sensitivity and Specificity Metrics WILL be used. ROC_AUC may also be used for modeling efficiency of our model via analysis of loss function.\n"
   ]
  },
  {
   "cell_type": "markdown",
   "metadata": {},
   "source": [
    "# Preliminary results\n",
    "\n",
    "NEW SECTION!\n",
    "\n",
    "Please show any preliminary results you have managed to obtain.\n",
    "\n",
    "Examples would include:\n",
    "- Analyzing the suitability of a dataset or alogrithm for prediction/solving your problem \n",
    "- Performing feature selection or hand-designing features from the raw data. Describe the features available/created and/or show the code for selection/creation\n",
    "- Showing the performance of a base model/hyper-parameter setting.  Solve the task with one \"default\" algorithm and characterize the performance level of that base model.\n",
    "- Learning curves or validation curves for a particular model\n",
    "- Tables/graphs showing the performance of different models/hyper-parameters\n",
    "\n"
   ]
  },
  {
   "cell_type": "code",
   "execution_count": 40,
   "metadata": {},
   "outputs": [],
   "source": [
    "import numpy as np\n",
    "import pandas as pd\n",
    "import seaborn as sns\n",
    "import matplotlib.pyplot as plt\n",
    "import sklearn\n",
    "\n",
    "heart = pd.read_csv('heart_2020_cleaned.csv')"
   ]
  },
  {
   "cell_type": "code",
   "execution_count": 41,
   "metadata": {},
   "outputs": [
    {
     "data": {
      "text/html": [
       "<div>\n",
       "<style scoped>\n",
       "    .dataframe tbody tr th:only-of-type {\n",
       "        vertical-align: middle;\n",
       "    }\n",
       "\n",
       "    .dataframe tbody tr th {\n",
       "        vertical-align: top;\n",
       "    }\n",
       "\n",
       "    .dataframe thead th {\n",
       "        text-align: right;\n",
       "    }\n",
       "</style>\n",
       "<table border=\"1\" class=\"dataframe\">\n",
       "  <thead>\n",
       "    <tr style=\"text-align: right;\">\n",
       "      <th></th>\n",
       "      <th>HeartDisease</th>\n",
       "      <th>BMI</th>\n",
       "      <th>Smoking</th>\n",
       "      <th>AlcoholDrinking</th>\n",
       "      <th>Stroke</th>\n",
       "      <th>PhysicalHealth</th>\n",
       "      <th>MentalHealth</th>\n",
       "      <th>DiffWalking</th>\n",
       "      <th>Sex</th>\n",
       "      <th>AgeCategory</th>\n",
       "      <th>Race</th>\n",
       "      <th>Diabetic</th>\n",
       "      <th>PhysicalActivity</th>\n",
       "      <th>GenHealth</th>\n",
       "      <th>SleepTime</th>\n",
       "      <th>Asthma</th>\n",
       "      <th>KidneyDisease</th>\n",
       "      <th>SkinCancer</th>\n",
       "    </tr>\n",
       "  </thead>\n",
       "  <tbody>\n",
       "    <tr>\n",
       "      <th>0</th>\n",
       "      <td>No</td>\n",
       "      <td>16.60</td>\n",
       "      <td>Yes</td>\n",
       "      <td>No</td>\n",
       "      <td>No</td>\n",
       "      <td>3.0</td>\n",
       "      <td>30.0</td>\n",
       "      <td>No</td>\n",
       "      <td>Female</td>\n",
       "      <td>55-59</td>\n",
       "      <td>White</td>\n",
       "      <td>Yes</td>\n",
       "      <td>Yes</td>\n",
       "      <td>Very good</td>\n",
       "      <td>5.0</td>\n",
       "      <td>Yes</td>\n",
       "      <td>No</td>\n",
       "      <td>Yes</td>\n",
       "    </tr>\n",
       "    <tr>\n",
       "      <th>1</th>\n",
       "      <td>No</td>\n",
       "      <td>20.34</td>\n",
       "      <td>No</td>\n",
       "      <td>No</td>\n",
       "      <td>Yes</td>\n",
       "      <td>0.0</td>\n",
       "      <td>0.0</td>\n",
       "      <td>No</td>\n",
       "      <td>Female</td>\n",
       "      <td>80 or older</td>\n",
       "      <td>White</td>\n",
       "      <td>No</td>\n",
       "      <td>Yes</td>\n",
       "      <td>Very good</td>\n",
       "      <td>7.0</td>\n",
       "      <td>No</td>\n",
       "      <td>No</td>\n",
       "      <td>No</td>\n",
       "    </tr>\n",
       "    <tr>\n",
       "      <th>2</th>\n",
       "      <td>No</td>\n",
       "      <td>26.58</td>\n",
       "      <td>Yes</td>\n",
       "      <td>No</td>\n",
       "      <td>No</td>\n",
       "      <td>20.0</td>\n",
       "      <td>30.0</td>\n",
       "      <td>No</td>\n",
       "      <td>Male</td>\n",
       "      <td>65-69</td>\n",
       "      <td>White</td>\n",
       "      <td>Yes</td>\n",
       "      <td>Yes</td>\n",
       "      <td>Fair</td>\n",
       "      <td>8.0</td>\n",
       "      <td>Yes</td>\n",
       "      <td>No</td>\n",
       "      <td>No</td>\n",
       "    </tr>\n",
       "    <tr>\n",
       "      <th>3</th>\n",
       "      <td>No</td>\n",
       "      <td>24.21</td>\n",
       "      <td>No</td>\n",
       "      <td>No</td>\n",
       "      <td>No</td>\n",
       "      <td>0.0</td>\n",
       "      <td>0.0</td>\n",
       "      <td>No</td>\n",
       "      <td>Female</td>\n",
       "      <td>75-79</td>\n",
       "      <td>White</td>\n",
       "      <td>No</td>\n",
       "      <td>No</td>\n",
       "      <td>Good</td>\n",
       "      <td>6.0</td>\n",
       "      <td>No</td>\n",
       "      <td>No</td>\n",
       "      <td>Yes</td>\n",
       "    </tr>\n",
       "    <tr>\n",
       "      <th>4</th>\n",
       "      <td>No</td>\n",
       "      <td>23.71</td>\n",
       "      <td>No</td>\n",
       "      <td>No</td>\n",
       "      <td>No</td>\n",
       "      <td>28.0</td>\n",
       "      <td>0.0</td>\n",
       "      <td>Yes</td>\n",
       "      <td>Female</td>\n",
       "      <td>40-44</td>\n",
       "      <td>White</td>\n",
       "      <td>No</td>\n",
       "      <td>Yes</td>\n",
       "      <td>Very good</td>\n",
       "      <td>8.0</td>\n",
       "      <td>No</td>\n",
       "      <td>No</td>\n",
       "      <td>No</td>\n",
       "    </tr>\n",
       "  </tbody>\n",
       "</table>\n",
       "</div>"
      ],
      "text/plain": [
       "  HeartDisease    BMI Smoking AlcoholDrinking Stroke  PhysicalHealth  \\\n",
       "0           No  16.60     Yes              No     No             3.0   \n",
       "1           No  20.34      No              No    Yes             0.0   \n",
       "2           No  26.58     Yes              No     No            20.0   \n",
       "3           No  24.21      No              No     No             0.0   \n",
       "4           No  23.71      No              No     No            28.0   \n",
       "\n",
       "   MentalHealth DiffWalking     Sex  AgeCategory   Race Diabetic  \\\n",
       "0          30.0          No  Female        55-59  White      Yes   \n",
       "1           0.0          No  Female  80 or older  White       No   \n",
       "2          30.0          No    Male        65-69  White      Yes   \n",
       "3           0.0          No  Female        75-79  White       No   \n",
       "4           0.0         Yes  Female        40-44  White       No   \n",
       "\n",
       "  PhysicalActivity  GenHealth  SleepTime Asthma KidneyDisease SkinCancer  \n",
       "0              Yes  Very good        5.0    Yes            No        Yes  \n",
       "1              Yes  Very good        7.0     No            No         No  \n",
       "2              Yes       Fair        8.0    Yes            No         No  \n",
       "3               No       Good        6.0     No            No        Yes  \n",
       "4              Yes  Very good        8.0     No            No         No  "
      ]
     },
     "execution_count": 41,
     "metadata": {},
     "output_type": "execute_result"
    }
   ],
   "source": [
    "heart.head()"
   ]
  },
  {
   "cell_type": "code",
   "execution_count": 42,
   "metadata": {},
   "outputs": [
    {
     "name": "stdout",
     "output_type": "stream",
     "text": [
      "<class 'pandas.core.frame.DataFrame'>\n",
      "RangeIndex: 319795 entries, 0 to 319794\n",
      "Data columns (total 18 columns):\n",
      " #   Column            Non-Null Count   Dtype  \n",
      "---  ------            --------------   -----  \n",
      " 0   HeartDisease      319795 non-null  object \n",
      " 1   BMI               319795 non-null  float64\n",
      " 2   Smoking           319795 non-null  object \n",
      " 3   AlcoholDrinking   319795 non-null  object \n",
      " 4   Stroke            319795 non-null  object \n",
      " 5   PhysicalHealth    319795 non-null  float64\n",
      " 6   MentalHealth      319795 non-null  float64\n",
      " 7   DiffWalking       319795 non-null  object \n",
      " 8   Sex               319795 non-null  object \n",
      " 9   AgeCategory       319795 non-null  object \n",
      " 10  Race              319795 non-null  object \n",
      " 11  Diabetic          319795 non-null  object \n",
      " 12  PhysicalActivity  319795 non-null  object \n",
      " 13  GenHealth         319795 non-null  object \n",
      " 14  SleepTime         319795 non-null  float64\n",
      " 15  Asthma            319795 non-null  object \n",
      " 16  KidneyDisease     319795 non-null  object \n",
      " 17  SkinCancer        319795 non-null  object \n",
      "dtypes: float64(4), object(14)\n",
      "memory usage: 43.9+ MB\n"
     ]
    }
   ],
   "source": [
    "heart.info()"
   ]
  },
  {
   "cell_type": "code",
   "execution_count": 43,
   "metadata": {},
   "outputs": [
    {
     "name": "stdout",
     "output_type": "stream",
     "text": [
      "HeartDisease                                                [No, Yes]\n",
      "BMI                 [16.6, 20.34, 26.58, 24.21, 23.71, 28.87, 21.6...\n",
      "Smoking                                                     [Yes, No]\n",
      "AlcoholDrinking                                             [No, Yes]\n",
      "Stroke                                                      [No, Yes]\n",
      "PhysicalHealth      [3.0, 0.0, 20.0, 28.0, 6.0, 15.0, 5.0, 30.0, 7...\n",
      "MentalHealth        [30.0, 0.0, 2.0, 5.0, 15.0, 8.0, 4.0, 3.0, 10....\n",
      "DiffWalking                                                 [No, Yes]\n",
      "Sex                                                    [Female, Male]\n",
      "AgeCategory         [55-59, 80 or older, 65-69, 75-79, 40-44, 70-7...\n",
      "Race                [White, Black, Asian, American Indian/Alaskan ...\n",
      "Diabetic            [Yes, No, No, borderline diabetes, Yes (during...\n",
      "PhysicalActivity                                            [Yes, No]\n",
      "GenHealth                    [Very good, Fair, Good, Poor, Excellent]\n",
      "SleepTime           [5.0, 7.0, 8.0, 6.0, 12.0, 4.0, 9.0, 10.0, 15....\n",
      "Asthma                                                      [Yes, No]\n",
      "KidneyDisease                                               [No, Yes]\n",
      "SkinCancer                                                  [Yes, No]\n",
      "dtype: object\n"
     ]
    }
   ],
   "source": [
    "print(heart.apply(lambda col: col.unique()))"
   ]
  },
  {
   "cell_type": "code",
   "execution_count": 44,
   "metadata": {},
   "outputs": [
    {
     "data": {
      "text/plain": [
       "<AxesSubplot:ylabel='Race'>"
      ]
     },
     "execution_count": 44,
     "metadata": {},
     "output_type": "execute_result"
    },
    {
     "data": {
      "image/png": "[encoded data removed]",
      "text/plain": [
       "<Figure size 432x288 with 1 Axes>"
      ]
     },
     "metadata": {
      "needs_background": "light"
     },
     "output_type": "display_data"
    },
    {
     "data": {
      "image/png": "[encoded data removed]",
      "text/plain": [
       "<Figure size 432x288 with 1 Axes>"
      ]
     },
     "metadata": {
      "needs_background": "light"
     },
     "output_type": "display_data"
    }
   ],
   "source": [
    "heart.groupby(\"Sex\").count().plot(y= \"HeartDisease\", kind= \"barh\")\n",
    "heart.groupby(\"Race\").count().plot(y= \"HeartDisease\", kind= \"barh\")"
   ]
  },
  {
   "cell_type": "code",
   "execution_count": null,
   "metadata": {},
   "outputs": [
    {
     "data": {
      "text/plain": [
       "array([[<AxesSubplot:title={'center':'BMI'}>,\n",
       "        <AxesSubplot:title={'center':'PhysicalHealth'}>],\n",
       "       [<AxesSubplot:title={'center':'MentalHealth'}>,\n",
       "        <AxesSubplot:title={'center':'SleepTime'}>]], dtype=object)"
      ]
     },
     "execution_count": 45,
     "metadata": {},
     "output_type": "execute_result"
    }
   ],
   "source": [
    "sub_data = heart[['BMI', 'PhysicalHealth', 'MentalHealth','SleepTime']]\n",
    "sns.pairplot(sub_data)\n",
    "heart.hist(column= [\"BMI\", \"PhysicalHealth\", \"MentalHealth\", \"SleepTime\"], figsize= (10,6))"
   ]
  },
  {
   "cell_type": "code",
   "execution_count": null,
   "metadata": {},
   "outputs": [],
   "source": [
    "from sklearn.preprocessing import LabelEncoder\n",
    "\n",
    "# Replacing all Yes/No columns with 1/0.\n",
    "le = LabelEncoder()\n",
    "columns = heart[['HeartDisease','Smoking', 'AlcoholDrinking', 'Stroke', 'DiffWalking', 'PhysicalActivity', 'Asthma', 'KidneyDisease', 'SkinCancer']]\n",
    "for col in columns:\n",
    "    heart[col] = le.fit_transform(heart[col])\n",
    "heart.head()                                 "
   ]
  },
  {
   "cell_type": "code",
   "execution_count": null,
   "metadata": {},
   "outputs": [],
   "source": [
    "# Encoding all categorical variables as One-Hot vectors.\n",
    "\n",
    "heart = pd.concat([heart, pd.get_dummies(heart['Sex'], prefix='Sex')], axis=1)\n",
    "heart.drop(['Sex'], axis=1, inplace=True)\n",
    "\n",
    "heart = pd.concat([heart, pd.get_dummies(heart['Race'], prefix='Race')], axis=1)\n",
    "heart.drop(['Race'], axis=1, inplace=True)\n",
    "\n",
    "heart = pd.concat([heart, pd.get_dummies(heart['AgeCategory'], prefix='AgeCategory')], axis=1)\n",
    "heart.drop(['AgeCategory'], axis=1, inplace=True)\n",
    "\n",
    "heart = pd.concat([heart, pd.get_dummies(heart['Diabetic'], prefix='Diabetic')], axis=1)\n",
    "heart.drop(['Diabetic'], axis=1, inplace=True)\n",
    "\n",
    "rank_map = {'Poor': 1, 'Fair': 2, 'Good': 3, 'Very good': 4, 'Excellent': 5}\n",
    "heart['GenHealth'] = heart['GenHealth'].map(rank_map)\n",
    "heart.head()"
   ]
  },
  {
   "cell_type": "code",
   "execution_count": null,
   "metadata": {},
   "outputs": [],
   "source": [
    "print(heart.apply(lambda col: col.unique()))"
   ]
  },
  {
   "cell_type": "markdown",
   "metadata": {},
   "source": [
    "#### Decision Tree"
   ]
  },
  {
   "cell_type": "code",
   "execution_count": null,
   "metadata": {},
   "outputs": [],
   "source": [
    "from sklearn import tree"
   ]
  },
  {
   "cell_type": "code",
   "execution_count": null,
   "metadata": {},
   "outputs": [],
   "source": [
    "from sklearn.tree import DecisionTreeClassifier\n",
    "from sklearn.model_selection import train_test_split\n",
    "\n",
    "X = heart.drop('HeartDisease',axis=1)\n",
    "y = heart['HeartDisease']\n",
    "X_train, X_test, y_train, y_test = train_test_split(X, y, train_size=0.75)\n",
    "\n",
    "dt = DecisionTreeClassifier(max_depth= 3)\n",
    "dt.fit(X_train, y_train)\n"
   ]
  },
  {
   "cell_type": "code",
   "execution_count": null,
   "metadata": {},
   "outputs": [],
   "source": [
    "dt.score(X_test, y_test)"
   ]
  },
  {
   "cell_type": "code",
   "execution_count": null,
   "metadata": {},
   "outputs": [],
   "source": [
    "plt.figure(figsize=(30, 30)) # Resize figure\n",
    "tree.plot_tree(dt, filled=True)\n",
    "plt.show()"
   ]
  },
  {
   "cell_type": "code",
   "execution_count": null,
   "metadata": {},
   "outputs": [],
   "source": []
  },
  {
   "cell_type": "markdown",
   "metadata": {},
   "source": [
    "# Ethics & Privacy"
   ]
  },
  {
   "cell_type": "markdown",
   "metadata": {},
   "source": [
    "This project should not have privacy concerns because the dataset comes from the CDC and is publicly available. All entries have been anonymized and only medically necessary and on-topic, non-identifying variables are listed."
   ]
  },
  {
   "cell_type": "markdown",
   "metadata": {},
   "source": [
    "# Team Expectations "
   ]
  },
  {
   "cell_type": "markdown",
   "metadata": {},
   "source": [
    "- Teammates will meet consistently to finish work before the deadlines\n",
    "- Teammates will complete assigned work before the next meeting(s)\n",
    "- Teammates will use Discord as their main method of communication, we expect replies within 24 hours.\n",
    "- Teammates will communicate conflicts, blockers, and/or progress as needed\n",
    "- Teammates will remain respectful to each other and will be considerate of each other(s) needs, skills, and opinions. \n"
   ]
  },
  {
   "cell_type": "markdown",
   "metadata": {},
   "source": [
    "# Project Timeline Proposal"
   ]
  },
  {
   "cell_type": "markdown",
   "metadata": {},
   "source": [
    "Replace this with something meaningful that is appropriate for your needs. It doesn't have to be something that fits this format.  It doesn't have to be set in stone... \"no battle plan survives contact with the enemy\". But you need a battle plan nonetheless, and you need to keep it updated so you understand what you are trying to accomplish, who's responsible for what, and what the expected due dates are for each item.\n",
    "\n",
    "| Meeting Date  | Meeting Time| Completed Before Meeting  | Discuss at Meeting |\n",
    "|---|---|---|---|\n",
    "| 4/30  |  4 PM |  Import, Wrangle Data ,do some EDA   | Review/Edit wrangling/EDA; Discuss Analysis Plan | \n",
    "| 5/16 |  4 PM  | Import dataset and inital EDA  | Discuss EDA results and model selection |\n",
    "| 5/21  | 4 PM  | Baseline Model Performance  | Compare different models and hyperparameters   |\n",
    "| 6/4  | 4 PM  | Model performance and metrics | Discuss the final changes we want to make to our project |\n",
    "| 6/8  | 4 PM  | NA | Turn in Final Project |"
   ]
  },
  {
   "cell_type": "markdown",
   "metadata": {},
   "source": [
    "# Footnotes\n",
    "<a name=\"kagglenote\"></a>1.[^](#kaggle): https://www.kaggle.com/datasets/kamilpytlak/personal-key-indicators-of-heart-disease<br>\n",
    "<a name=\"cdcnote\"></a>2.[^](#cdc): https://www.cdc.gov/heartdisease/facts.htm<br>\n",
    "<a name=\"amennote\"></a>3.[^](#amen): Amen, K., Zohdy, M., & Mahmoud, M. (2020, September). Machine learning for multiple stage heart disease prediction. In Proceedings of the 7th International Conference on Computer Science, Engineering and Information Technology (pp. 205-223).<br>\n",
    "<a name=\"terradanote\"></a>4.[^](#terrada): Terrada, O., Hamida, S., Cherradi, B., Raihani, A., & Bouattane, O. (2020). Supervised machine learning based medical diagnosis support system for prediction of patients with heart disease. Advances in Science, Technology and Engineering Systems Journal, 5(5), 269-277."
   ]
  },
  {
   "cell_type": "code",
   "execution_count": null,
   "metadata": {},
   "outputs": [],
   "source": []
  }
 ],
 "metadata": {
  "kernelspec": {
   "display_name": "Python 3 (ipykernel)",
   "language": "python",
   "name": "python3"
  },
  "language_info": {
   "codemirror_mode": {
    "name": "ipython",
    "version": 3
   },
   "file_extension": ".py",
   "mimetype": "text/x-python",
   "name": "python",
   "nbconvert_exporter": "python",
   "pygments_lexer": "ipython3",
   "version": "3.7.9"
  }
 },
 "nbformat": 4,
 "nbformat_minor": 4
}
