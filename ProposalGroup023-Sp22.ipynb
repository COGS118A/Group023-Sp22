{
 "cells": [
  {
   "cell_type": "markdown",
   "metadata": {},
   "source": [
    "# COGS 118A- Project Proposal"
   ]
  },
  {
   "cell_type": "markdown",
   "metadata": {},
   "source": [
    "# Names\n",
    "\n",
    "- Ramy Al-Hosri\n",
    "- Kevin De Silva Jayasinghe\n",
    "- Alex Tsatryan\n",
    "- Madison Hambly\n",
    "- Efrain Contreras\n"
   ]
  },
  {
   "cell_type": "markdown",
   "metadata": {},
   "source": [
    "# Abstract \n",
    "\n",
    "Our goal is to use the provided data on Personal key indicators of heart disease to predict whether a person with a certain set of characteristics has heart disease or does not have heart disease. The data being used represents 400k individuals who’s health indicators were collected and documented. The data was collected by the CDC as part of the “Behavioral Risk Factor Surveillance System (BRFSS), which conducts annual telephone surveys to gather data on the health status of U.S. residents”<a name=\"kaggle\"></a>[<sup>1</sup>](#kagglenote). We will use the data to create a classification model to predict whether an individual, given the characteristics, has heart disease or not. Performance will be measured by accuracy with the test set, as this is a binary classification."
   ]
  },
  {
   "cell_type": "markdown",
   "metadata": {},
   "source": [
    "# Background\n",
    "\n",
    "According to the CDC, heart disease is the leading cause of death in the United States and is the result of approximately 1 in 4 deaths each year<a name=\"cdc\"></a>[<sup>[2]</sup>](#cdcnote). The CDC also noted that heart disease cost the United States $363 billion annually from 2016 to 2017. Thus, being able to use patient data to accurately predict whether or not someone has heart disease can be extremely advantageous in the field of medicine. It would allow for patients to discuss treatment and prevention options with their healthcare providers in the context of their own unique situation. \n",
    "\n",
    "It is likely due to these immense monetary and social incentives that there has been an effort in the field of machine learning to better predict an individual’s risk of having heart disease. In fact, recent research has aimed to not only predict whether or not someone has heart disease, but to also predict which stage of heart disease they are in<a name=\"lorenz\"></a>[<sup>[3]</sup>](#amennote). In this study, Amen et al. (2020) tried to predict the five stages of heart disease (no disease, stage 1, stage 2, stage 3, advanced condition) using five different machine learning algorithms, and were able to achieve a peak accuracy of 82% using Logistic Regression. In another study, Terrada et al. (2020)<a name=\"terrada\"></a>[<sup>[4]</sup>](#terradanote) proposed a system for predicting atherosclerotic disease, a type of heart disease, using a combination of three machine learning algorithms which at best was able to perform at an accuracy of 94%. While some of the information in the datasets that they used were similar to our own, there were also additional metrics specific to heart health employed (i.e. the number of major vessels colored by fluoroscopy, exercise induced angina, etc.) which many health care providers would likely not have access to if they were not already concerned with the patient’s heart health. Therefore, our project aims to perform a similar task in a more general setting.\n"
   ]
  },
  {
   "cell_type": "markdown",
   "metadata": {},
   "source": [
    "# Problem Statement\n",
    "\n",
    "The likelihood of developing heart disease can increase based on multiple variables. Furthermore, it is possible to have a heart condition and be completely unaware since in certain cases people do not develop any symptoms until they have severe complications. Despite this there is no accessible program that allows individuals to check whether or not they have a heart condition or have a risk of developing heart diseases. We believe its possible to create a machine learning model that given a handful of variables such as, smoking history, alchohol history, sex, etc it should be possible to create a model that can predict whether or not someone has a heart disease. Our problem is a classification problem with two categories: people with heart disease and people without heart disease. "
   ]
  },
  {
   "cell_type": "markdown",
   "metadata": {},
   "source": [
    "# Data\n",
    "\n",
    "- Link: https://www.kaggle.com/datasets/kamilpytlak/personal-key-indicators-of-heart-disease \n",
    "- 400,000 x 18\n",
    "- Observations (one row of data) include health information about an individual (BMI, smoking, drinking, history of stroke, etc.) as well as the classifier, whether the person has heart disease or not.\n",
    "- The most critical variable is the one that denotes if the person has heart disease, because this is what we will be predicting. All the other variables will be vectorized and fed into an appropriate classification model to predict if someone will have heart disease or not.\n",
    "- At first glance, the data seems standardized, might need some touch up for converting age ranges into single numbers, set-up for one hot, etc.\n"
   ]
  },
  {
   "cell_type": "markdown",
   "metadata": {},
   "source": [
    "# Proposed Solution\n",
    "\n",
    "The solution to our problem statement is to develop a machine learning model consisting of various categories of traits to classify individuals as having heart disease or not.  Our solution consists of using decision trees, which is applicable to the issue because one of our approaches is to partition the dataset into smaller clusters whilst keeping computing easy and signifying an importance of a particular variable.  Furthermore, since our data is nonparametric, we believed that a Decision Tree Classification would work best.  Our solution will be tested by measuring the accuracy of our classifier by submitting an example to a series of tests that determine the class label of the example.  Accuracy will be determined by checking if the outcome by the model is correct based on what is recorded in the dataset."
   ]
  },
  {
   "cell_type": "markdown",
   "metadata": {},
   "source": [
    "# Evaluation Metrics\n",
    "\n",
    "Propose at least one evaluation metric that can be used to quantify the performance of both the benchmark model and the solution model. The evaluation metric(s) you propose should be appropriate given the context of the data, the problem statement, and the intended solution. Describe how the evaluation metric(s) are derived and provide an example of their mathematical representations (if applicable). Complex evaluation metrics should be clearly defined and quantifiable (can be expressed in mathematical or logical terms).\n",
    "\n",
    "Confusion matrix:\n",
    "<table>\n",
    "    <tr>\n",
    "        <th> </th>  \n",
    "        <th>1 (Real)</th>  \n",
    "        <th>0 (Real)</th>\n",
    "    </tr>\n",
    "    <tr>\n",
    "        <td> 1 (Predicted)</td>\n",
    "        <td> True Positive (TP)</td>\n",
    "        <td> False Positive (FP)</td>\n",
    "    </tr>\n",
    "    <tr>\n",
    "        <td> 0 (Predicted)</td>\n",
    "        <td> False Negative (FN)</td>\n",
    "        <td> True Negative (TN)</td>\n",
    "    </tr>\n",
    "</table>\n",
    "\n",
    "Equation for accuracy: (TN+TP)/(TN+TP+FP+FN)\n",
    "\n",
    "Sensitivity and Specificity Metrics may be used if relevant as well. ROC_AUC may also be used for modeling efficiency of our model via analysis of loss function.\n"
   ]
  },
  {
   "cell_type": "markdown",
   "metadata": {},
   "source": [
    "# Ethics & Privacy"
   ]
  },
  {
   "cell_type": "markdown",
   "metadata": {},
   "source": [
    "This project should not have privacy concerns because the dataset comes from the CDC and is publicly available. All entries have been anonymized and only medically necessary and on-topic, non-identifying variables are listed."
   ]
  },
  {
   "cell_type": "markdown",
   "metadata": {},
   "source": [
    "# Team Expectations "
   ]
  },
  {
   "cell_type": "markdown",
   "metadata": {},
   "source": [
    "- Teammates will meet consistently to finish work before the deadlines\n",
    "- Teammates will complete assigned work before the next meeting(s)\n",
    "- Teammates will use Discord as their main method of communication, we expect replies within 24 hours.\n",
    "- Teammates will communicate conflicts, blockers, and/or progress as needed\n",
    "- Teammates will remain respectful to each other and will be considerate of each other(s) needs, skills, and opinions. \n"
   ]
  },
  {
   "cell_type": "markdown",
   "metadata": {},
   "source": [
    "# Project Timeline Proposal"
   ]
  },
  {
   "cell_type": "markdown",
   "metadata": {},
   "source": [
    "Replace this with something meaningful that is appropriate for your needs. It doesn't have to be something that fits this format.  It doesn't have to be set in stone... \"no battle plan survives contact with the enemy\". But you need a battle plan nonetheless, and you need to keep it updated so you understand what you are trying to accomplish, who's responsible for what, and what the expected due dates are for each item.\n",
    "\n",
    "| Meeting Date  | Meeting Time| Completed Before Meeting  | Discuss at Meeting |\n",
    "|---|---|---|---|\n",
    "| 4/30  |  4 PM |  Import, Wrangle Data ,do some EDA   | Review/Edit wrangling/EDA; Discuss Analysis Plan | \n",
    "| 5/7  |  4 PM |  Decided which ML algorithms we will use | Divide who is gonna work on each ML algorithm | \n",
    "| 5/14 |  4 PM  | Finalize code for ML algorithms  | Discuss results of the model |\n",
    "| 5/21  | 4 PM  | Create some data visualization of our findings  | Discuss how we want to present our project   |\n",
    "| 6/4  | 4 PM  | Final Edits and write ups | Discuss the final changes we want to make to our project |\n",
    "| 6/8  | 4 PM  | NA | Turn in Final Project |"
   ]
  },
  {
   "cell_type": "markdown",
   "metadata": {},
   "source": [
    "# Footnotes\n",
    "<a name=\"kagglenote\"></a>1.[^](#kaggle): https://www.kaggle.com/datasets/kamilpytlak/personal-key-indicators-of-heart-disease<br>\n",
    "<a name=\"cdcnote\"></a>2.[^](#cdc): https://www.cdc.gov/heartdisease/facts.htm<br>\n",
    "<a name=\"amennote\"></a>3.[^](#amen): Amen, K., Zohdy, M., & Mahmoud, M. (2020, September). Machine learning for multiple stage heart disease prediction. In Proceedings of the 7th International Conference on Computer Science, Engineering and Information Technology (pp. 205-223).<br>\n",
    "<a name=\"terradanote\"></a>4.[^](#terrada): Terrada, O., Hamida, S., Cherradi, B., Raihani, A., & Bouattane, O. (2020). Supervised machine learning based medical diagnosis support system for prediction of patients with heart disease. Advances in Science, Technology and Engineering Systems Journal, 5(5), 269-277."
   ]
  }
 ],
 "metadata": {
  "kernelspec": {
   "display_name": "Python 3 (ipykernel)",
   "language": "python",
   "name": "python3"
  },
  "language_info": {
   "codemirror_mode": {
    "name": "ipython",
    "version": 3
   },
   "file_extension": ".py",
   "mimetype": "text/x-python",
   "name": "python",
   "nbconvert_exporter": "python",
   "pygments_lexer": "ipython3",
   "version": "3.9.7"
  }
 },
 "nbformat": 4,
 "nbformat_minor": 2
}
